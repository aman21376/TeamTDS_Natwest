{
 "cells": [
  {
   "cell_type": "code",
   "execution_count": null,
   "metadata": {},
   "outputs": [],
   "source": [
    "import librosa\n",
    "import numpy as np\n",
    "import tensorflow as tf\n",
    "from tensorflow.keras.models import Sequential\n",
    "from tensorflow.keras.layers import Dense, Flatten, Conv2D, MaxPooling2D\n",
    "import matplotlib.pyplot as plt\n"
   ]
  },
  {
   "cell_type": "code",
   "execution_count": null,
   "metadata": {},
   "outputs": [],
   "source": [
    "def preprocess_audio(audio_path):\n",
    "    \n",
    "    y, sr = librosa.load(audio_path, sr=16000)\n",
    "    \n",
    "    spectrogram = librosa.feature.melspectrogram(y=y, sr=sr, n_mels=128)\n",
    "    \n",
    "    log_spectrogram = librosa.power_to_db(spectrogram, ref=np.max)\n",
    "   \n",
    "    log_spectrogram -= log_spectrogram.min()\n",
    "    log_spectrogram /= log_spectrogram.max()\n",
    "    \n",
    "    log_spectrogram = np.expand_dims(log_spectrogram, axis=-1)\n",
    "    log_spectrogram = np.expand_dims(log_spectrogram, axis=0)  # Add batch dimension\n",
    "    return log_spectrogram\n"
   ]
  },
  {
   "cell_type": "code",
   "execution_count": null,
   "metadata": {},
   "outputs": [],
   "source": [
    "def build_resnet_model(input_shape):\n",
    "    model = Sequential()\n",
    "    model.add(Conv2D(32, kernel_size=(3, 3), activation='relu', input_shape=input_shape))\n",
    "    model.add(MaxPooling2D(pool_size=(2, 2)))\n",
    "    \n",
    "    model.add(Flatten())\n",
    "    model.add(Dense(1, activation='sigmoid'))\n",
    "    model.compile(optimizer='adam', loss='binary_crossentropy', metrics=['accuracy'])\n",
    "    return model\n",
    "\n",
    "input_shape = (128, None, 1)  \n",
    "model = build_resnet_model(input_shape)\n"
   ]
  },
  {
   "cell_type": "code",
   "execution_count": null,
   "metadata": {},
   "outputs": [],
   "source": [
    "audio_path = 'audio.wav'\n",
    "spectrogram = preprocess_audio(audio_path)\n",
    "\n",
    "prediction = model.predict(spectrogram)\n",
    "probability = prediction[0][0]\n",
    "print(f'Deepfake Probability: {probability:.2f}')\n"
   ]
  },
  {
   "cell_type": "code",
   "execution_count": null,
   "metadata": {},
   "outputs": [],
   "source": [
    "def wavefake_analysis(audio_path):\n",
    "    \n",
    "    y, sr = librosa.load(audio_path, sr=16000)\n",
    "    y = y[:16000]  # Use first second for simplicity\n",
    "    y = np.expand_dims(y, axis=0)  \n",
    "    y = np.expand_dims(y, axis=-1)  \n",
    "\n",
    "    # Predict deepfake probability\n",
    "    prediction = model.predict(y)\n",
    "    probability = prediction[0][0]\n",
    "    return probability\n",
    "\n",
    "probability_wavefake = wavefake_analysis(audio_path)\n",
    "print(f'WaveFake Deepfake Probability: {probability_wavefake:.2f}')\n"
   ]
  }
 ],
 "metadata": {
  "language_info": {
   "name": "python"
  }
 },
 "nbformat": 4,
 "nbformat_minor": 2
}
